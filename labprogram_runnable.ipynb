{
 "cells": [
  {
   "cell_type": "code",
   "execution_count": 3,
   "metadata": {},
   "outputs": [
    {
     "name": "stdin",
     "output_type": "stream",
     "text": [
      "enter your name. Miguel\n",
      "Do you like pinaples on your pizza? Y or N Nah\n"
     ]
    },
    {
     "name": "stdout",
     "output_type": "stream",
     "text": [
      "Miguel cannot properly answer a question.\n"
     ]
    }
   ],
   "source": [
    "name = input(\"enter your name.\")\n",
    "pineapples = input(\"Do you like pinaples on your pizza? Y or N\")\n",
    "pineapples = pineapples.lower()\n",
    "if pineapples == 'n':\n",
    "    print(name + \" is a good person and has a good taste for food.\")\n",
    "elif pineapples == 'y':\n",
    "    print(name + \" is a terrible person and has no taste for food.\")\n",
    "else:\n",
    "    print(name + \" cannot properly answer a question.\")\n"
   ]
  },
  {
   "cell_type": "code",
   "execution_count": null,
   "metadata": {},
   "outputs": [],
   "source": []
  }
 ],
 "metadata": {
  "kernelspec": {
   "display_name": "Python 3",
   "language": "python",
   "name": "python3"
  },
  "language_info": {
   "codemirror_mode": {
    "name": "ipython",
    "version": 3
   },
   "file_extension": ".py",
   "mimetype": "text/x-python",
   "name": "python",
   "nbconvert_exporter": "python",
   "pygments_lexer": "ipython3",
   "version": "3.8.3"
  }
 },
 "nbformat": 4,
 "nbformat_minor": 4
}
